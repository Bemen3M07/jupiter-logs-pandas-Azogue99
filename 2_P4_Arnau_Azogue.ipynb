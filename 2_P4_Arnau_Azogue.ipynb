{
 "cells": [
  {
   "cell_type": "markdown",
   "id": "4e95bcf6",
   "metadata": {
    "vscode": {
     "languageId": "plaintext"
    }
   },
   "source": [
    "## Exercici 1\n",
    "\n",
    "\n",
    "### Comandes de Linux per analitzar logs:\n",
    "\n",
    "- **Veure contínuament els logs que es van escrivint a un arxiu**:  \n",
    "  Pots utilitzar la comanda `tail -f <nom_fitxer_log>` per seguir els canvis en temps real.\n",
    "\n",
    "- **Cercar una paraula concreta dintre d’un arxiu de log**:  \n",
    "  La comanda `grep 'paraula' <nom_fitxer_log>` permet cercar una paraula o frase específica.\n",
    "\n",
    "### Exemples en codi:\n",
    "```bash\n",
    "tail -f application.log\n",
    "\n",
    "grep 'ERROR' application.log\n",
    "```\n"
   ]
  },
  {
   "cell_type": "markdown",
   "id": "4ce7387e",
   "metadata": {},
   "source": [
    "## Exercici 2\n",
    "\n",
    "\n",
    "El logging és essencial per fer seguiment de l'estat del programa. Aquí desenvoluparem un exemple que implementa logs diferenciats segons els nivells i formats:\n",
    "\n",
    "### Configuració inicial del logging:\n",
    "1. Registre dels logs `INFO` a un fitxer d'informació i dels logs `ERROR` a un altre fitxer.\n",
    "2. Afegir un handler de pantalla per mostrar missatges d'`INFO` i superiors.\n",
    "3. Configurar un logger personalitzat per guardar dades en format CSV.\n"
   ]
  },
  {
   "cell_type": "code",
   "execution_count": null,
   "id": "c6fcbcc7",
   "metadata": {},
   "outputs": [],
   "source": [
    "import logging\n",
    "\n",
    "# Configurar logger principal\n",
    "logger = logging.getLogger('AppLogger')\n",
    "logger.setLevel(logging.DEBUG)\n",
    "\n",
    "# Handler per logs INFO\n",
    "info_handler = logging.FileHandler('info.log')\n",
    "info_handler.setLevel(logging.INFO)\n",
    "info_handler.setFormatter(logging.Formatter('%(asctime)s - %(levelname)s - %(message)s'))\n",
    "logger.addHandler(info_handler)\n",
    "\n",
    "# Handler per logs ERROR\n",
    "error_handler = logging.FileHandler('error.log')\n",
    "error_handler.setLevel(logging.ERROR)\n",
    "error_handler.setFormatter(logging.Formatter('%(asctime)s - %(levelname)s - %(message)s'))\n",
    "logger.addHandler(error_handler)\n",
    "\n",
    "# Handler per mostrar logs per pantalla\n",
    "console_handler = logging.StreamHandler()\n",
    "console_handler.setLevel(logging.INFO)\n",
    "console_handler.setFormatter(logging.Formatter('%(levelname)s: %(message)s'))\n",
    "logger.addHandler(console_handler)\n",
    "\n",
    "# Logger personalitzat amb format CSV\n",
    "csv_logger = logging.getLogger('CSVLogger')\n",
    "csv_handler = logging.FileHandler('logs.csv')\n",
    "csv_handler.setFormatter(logging.Formatter('%(asctime)s,%(levelname)s,%(message)s'))\n",
    "csv_logger.addHandler(csv_handler)\n",
    "csv_logger.setLevel(logging.INFO)\n",
    "\n",
    "# Generar logs d'exemple\n",
    "logger.info(\"Iniciant l'aplicació\")\n",
    "logger.error(\"Error crític detectat\")\n",
    "csv_logger.info(\"Dades registrades en format CSV\")\n"
   ]
  },
  {
   "cell_type": "markdown",
   "metadata": {},
   "source": [
    "## Exercici 3\n",
    "\n",
    "\n",
    "### Ús de llibreries per tractar dades\n",
    "Explorem les següents eines:\n",
    "1. **Pandas**: Permet manipular i analitzar dades estructurades fàcilment.\n",
    "2. **Jupyter Notebook**: Entorn interactiu per visualitzar i executar codi.\n",
    "3. **ReportLab**: Llibreria per generar documents PDF a partir de dades.\n",
    "\n",
    "### Exemple bàsic d'ús amb Pandas"
   ]
  },
  {
   "cell_type": "code",
   "execution_count": null,
   "id": "f1236510",
   "metadata": {},
   "outputs": [],
   "source": [
    "import pandas as pd\n",
    "\n",
    "data = {\n",
    "    \"Professor\": [\"Emili\", \"Mario\", \"Steven\"],\n",
    "    \"Alumne\": [\"Xavier\", \"Marc\", \"Jaume\"],\n",
    "    \"M01\": [7, 10, 8],\n",
    "    \"M04\": [9, 3, 5],\n",
    "    \"M03\": [5, 5, 6],\n",
    "    \"M05\": [8, 8, 4]\n",
    "}\n",
    "df = pd.DataFrame(data)\n",
    "df.to_csv(\"notes.csv\", index=False)\n",
    "print(\"CSV generat amb èxit!\")"
   ]
  }
 ],
 "metadata": {
  "kernelspec": {
   "display_name": "Python 3 (ipykernel)",
   "language": "python",
   "name": "python3"
  },
  "language_info": {
   "codemirror_mode": {
    "name": "ipython",
    "version": 3
   },
   "file_extension": ".py",
   "mimetype": "text/x-python",
   "name": "python",
   "nbconvert_exporter": "python",
   "pygments_lexer": "ipython3",
   "version": "3.12.1"
  }
 },
 "nbformat": 4,
 "nbformat_minor": 5
}
