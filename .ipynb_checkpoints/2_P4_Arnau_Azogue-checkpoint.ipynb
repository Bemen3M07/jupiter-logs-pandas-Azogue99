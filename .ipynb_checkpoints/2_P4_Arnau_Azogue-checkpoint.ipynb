{
 "cells": [
  {
   "cell_type": "markdown",
   "id": "8a46603e-a34e-4c99-9326-569211a31106",
   "metadata": {},
   "source": [
    "# Exercicis de Logging i Tractament de Dades\n",
    "\n",
    "---\n",
    "\n",
    "## Exercici 1\n",
    "Explica quines comandes de Linux pots fer servir a l’hora d’analitzar logs escrits a fitxer per a:\n",
    "- Veure contínuament els logs que es van escrivint a un arxiu.\n",
    "\n",
    "```bash\n",
    "tail -f nom_del_fitxer.log\n",
    "```\n",
    "\n",
    "- Cercar una paraula concreta dintre d’un arxiu de log.\n",
    "\n",
    "```bash\n",
    "grep \"paraula_clau\" nom_del_fitxer.log\n",
    "```\n"
   ]
  },
  {
   "cell_type": "markdown",
   "id": "e3f69cb1-a3ca-4514-ab09-b6e8099d5093",
   "metadata": {},
   "source": [
    "---\n",
    "## Exercici 2\n",
    "El concepte logging és molt important en la programació, alhora que està estrictament relacionat amb el tema que estem treballant. Un log en el nostre àmbit vindria a ser un fitxer que conté dades relacionades amb els principals esdeveniments i successos que ocorren en un programa o en un sistema operatiu. Així doncs, ja sigui per saber en quin punt hem tingut un error, perquè l'execució del programa no ha anat bé, o quina sèrie de passes ha seguit una persona mentre utilitzava la nostra aplicació i moltes altres utilitats, els Logs són vitals al món del software.\n",
    "\n",
    "En aquest exercici recuperarem el bucle d’exemple que vam fer servir a les sessions de teoria, i configurarem el log perquè els missatges d’error (i superiors) vagin a un arxiu, i els missatges d’info (i superiors) vagin a un altre arxiu, mentre que tots els missatges es mostren a la vegada per pantalla. A més, afegirem un nou missatge d’info a l’aplicació pel que farem servir un logger especial i diferent del que ja hem fet servir, i que tindrà un manegador amb format CSV.\n",
    "\n",
    "### Tasques\n",
    "- Configurar els logs d’info a un fitxer de logs d’info i els logs d’error a un fitxer de logs d’error.\n",
    "- Afegir, a més del handler de fitxer per a fitxers info, un handler de pantalla amb nivell info.\n",
    "- Afegir un nou logger amb un nou manegador i un nou formatador a CSV, i afegir una línia al programa que generi aquests logs.\n",
    "- Pujar al repositori una mostra d’unes 20 línies dels fitxers de logs generats per la vostra aplicació: un d’info, un d’error, i un en format CSV."
   ]
  },
  {
   "cell_type": "code",
   "execution_count": 3,
   "id": "8c965ff3-c474-4896-8e46-d5109abe4316",
   "metadata": {},
   "outputs": [
    {
     "name": "stderr",
     "output_type": "stream",
     "text": [
      "2024-11-26 20:58:06,984 - INFO - Aquest és el log d'informació número 1\n",
      "2024-11-26 20:58:07,987 - ERROR - Aquest és el log d'error número 2\n",
      "2024-11-26 20:58:08,991 - INFO - Aquest és el log d'informació número 3\n",
      "2024-11-26 20:58:09,992 - ERROR - Aquest és el log d'error número 4\n",
      "2024-11-26 20:58:10,993 - INFO - Aquest és el log d'informació número 5\n",
      "2024-11-26 20:58:11,996 - ERROR - Aquest és el log d'error número 6\n",
      "2024-11-26 20:58:12,997 - INFO - Aquest és el log d'informació número 7\n",
      "2024-11-26 20:58:13,999 - ERROR - Aquest és el log d'error número 8\n",
      "2024-11-26 20:58:15,000 - INFO - Aquest és el log d'informació número 9\n",
      "2024-11-26 20:58:16,002 - ERROR - Aquest és el log d'error número 10\n",
      "2024-11-26 20:58:17,004 - INFO - Aquest és el log d'informació número 11\n",
      "2024-11-26 20:58:18,006 - ERROR - Aquest és el log d'error número 12\n",
      "2024-11-26 20:58:19,009 - INFO - Aquest és el log d'informació número 13\n",
      "2024-11-26 20:58:20,012 - ERROR - Aquest és el log d'error número 14\n",
      "2024-11-26 20:58:21,016 - INFO - Aquest és el log d'informació número 15\n",
      "2024-11-26 20:58:22,017 - ERROR - Aquest és el log d'error número 16\n",
      "2024-11-26 20:58:23,019 - INFO - Aquest és el log d'informació número 17\n",
      "2024-11-26 20:58:24,020 - ERROR - Aquest és el log d'error número 18\n",
      "2024-11-26 20:58:25,023 - INFO - Aquest és el log d'informació número 19\n",
      "2024-11-26 20:58:26,026 - ERROR - Aquest és el log d'error número 20\n",
      "2024-11-26 20:58:27,030 - INFO - Aquest és el log d'informació número 21\n",
      "2024-11-26 20:58:28,031 - ERROR - Aquest és el log d'error número 22\n",
      "2024-11-26 20:58:29,033 - INFO - Aquest és el log d'informació número 23\n",
      "2024-11-26 20:58:30,037 - ERROR - Aquest és el log d'error número 24\n",
      "2024-11-26 20:58:31,039 - INFO - Aquest és el log d'informació número 25\n",
      "2024-11-26 20:58:32,041 - ERROR - Aquest és el log d'error número 26\n",
      "2024-11-26 20:58:33,043 - INFO - Aquest és el log d'informació número 27\n",
      "2024-11-26 20:58:34,044 - ERROR - Aquest és el log d'error número 28\n",
      "2024-11-26 20:58:35,045 - INFO - Aquest és el log d'informació número 29\n",
      "2024-11-26 20:58:36,047 - ERROR - Aquest és el log d'error número 30\n",
      "2024-11-26 20:58:37,048 - INFO - Aquest és el log d'informació número 31\n",
      "2024-11-26 20:58:38,050 - ERROR - Aquest és el log d'error número 32\n",
      "2024-11-26 20:58:39,051 - INFO - Aquest és el log d'informació número 33\n",
      "2024-11-26 20:58:40,052 - ERROR - Aquest és el log d'error número 34\n",
      "2024-11-26 20:58:41,057 - INFO - Aquest és el log d'informació número 35\n",
      "2024-11-26 20:58:42,060 - ERROR - Aquest és el log d'error número 36\n",
      "2024-11-26 20:58:43,061 - INFO - Aquest és el log d'informació número 37\n",
      "2024-11-26 20:58:44,063 - ERROR - Aquest és el log d'error número 38\n",
      "2024-11-26 20:58:45,067 - INFO - Aquest és el log d'informació número 39\n",
      "2024-11-26 20:58:46,069 - ERROR - Aquest és el log d'error número 40\n"
     ]
    }
   ],
   "source": [
    "import logging\n",
    "from logging import FileHandler, StreamHandler, Formatter\n",
    "from time import sleep\n",
    "import os\n",
    "\n",
    "# Crear la carpeta per als fitxers de sortida si no existeix\n",
    "output_dir = 'Exercici_2_Output'\n",
    "os.makedirs(output_dir, exist_ok=True)\n",
    "\n",
    "# Configurar logger principal\n",
    "logger = logging.getLogger('MainLogger')\n",
    "logger.setLevel(logging.DEBUG)\n",
    "\n",
    "# Manegador per als errors (i superiors)\n",
    "error_handler = FileHandler(os.path.join(output_dir, 'errors.log'))\n",
    "error_handler.setLevel(logging.ERROR)\n",
    "error_handler.setFormatter(Formatter('%(asctime)s - %(levelname)s - %(message)s'))\n",
    "\n",
    "# Manegador per a info (i superiors)\n",
    "info_handler = FileHandler(os.path.join(output_dir, 'info.log'))\n",
    "info_handler.setLevel(logging.INFO)\n",
    "info_handler.setFormatter(Formatter('%(asctime)s - %(levelname)s - %(message)s'))\n",
    "\n",
    "# Manegador per mostrar tot per pantalla\n",
    "console_handler = StreamHandler()\n",
    "console_handler.setLevel(logging.DEBUG)\n",
    "console_handler.setFormatter(Formatter('%(asctime)s - %(levelname)s - %(message)s'))\n",
    "\n",
    "# Afegir manegadors al logger principal\n",
    "logger.addHandler(error_handler)\n",
    "logger.addHandler(info_handler)\n",
    "logger.addHandler(console_handler)\n",
    "\n",
    "# Logger amb format CSV\n",
    "csv_logger = logging.getLogger('CSVLogger')\n",
    "csv_logger.setLevel(logging.INFO)\n",
    "\n",
    "# Manegador per al logger CSV\n",
    "csv_handler = FileHandler(os.path.join(output_dir, 'csv_logs.csv'))\n",
    "csv_handler.setFormatter(Formatter('%(asctime)s, %(levelname)s, %(message)s'))\n",
    "csv_logger.addHandler(csv_handler)\n",
    "\n",
    "# Crear un bucle que generi logs de tipus INFO i ERROR\n",
    "for i in range(40):\n",
    "    sleep(1)\n",
    "    if i % 2 == 0:\n",
    "        logger.info(f\"Aquest és el log d'informació número {i+1}\")\n",
    "    else:\n",
    "        logger.error(f\"Aquest és el log d'error número {i+1}\")\n",
    "\n",
    "# Missatge d'info addicional amb el logger CSV\n",
    "csv_logger.info('Missatge especial registrat en format CSV.')"
   ]
  },
  {
   "cell_type": "markdown",
   "id": "59da1132-44c1-47ee-a766-a9a4eb0a66ce",
   "metadata": {},
   "source": [
    "### Reflexió\n",
    "Què creieu que és millor, mostrar els logs a la terminal durant l'execució del programa o bolcar-los en un fitxer de text? Afegiu al `readme.md` del repositori aquesta pregunta amb la seva resposta."
   ]
  },
  {
   "cell_type": "markdown",
   "id": "a9a6b072-369c-4bff-b4fa-ab2e40218214",
   "metadata": {},
   "source": [
    "Depèn de l'objectiu i del context d'ús:\n",
    "\n",
    " - Mostrar els logs a la terminal és útil durant el desenvolupament o per a una supervisió en temps real, ja que permet detectar ràpidament problemes o comportaments inesperats mentre el programa s'executa.\n",
    "\n",
    " - Bolcar els logs en un fitxer de text és més adequat per a aplicacions en producció o per a un anàlisi posterior. Això permet conservar un registre històric dels esdeveniments per depurar errors, auditar el sistema o millorar l'aplicació.\n",
    "\n"
   ]
  },
  {
   "cell_type": "markdown",
   "id": "b5957881-a62b-4876-813a-61d115af3f58",
   "metadata": {},
   "source": [
    "### Taula: Avantatges i desavantatges de maneres de fer logs\n",
    "| Exemple | Avantatges | Desavantatges |\n",
    "|---------|------------|---------------|\n",
    "| Fent servir la configuració per defecte del mòdul logging | Simple d'utilitzar i ràpid d'implementar.\t| No permet personalitzar fàcilment el format, nivells o sortida dels logs. |\n",
    "| Instanciant un objecte logger i parametritzant-lo des del programa | Control total sobre els manegadors, formatadors i nivells de registre. Flexibilitat per ajustar a les necessitats específiques del projecte.\t| Pot ser laboriós configurar-ho manualment en aplicacions complexes. |\n",
    "| Instanciant un objecte logger a partir d’una configuració emmagatzemada a fitxer | Permet una configuració centralitzada i reutilitzable. Fàcil d'actualitzar sense modificar el codi. | Pot requerir més temps inicial per preparar el fitxer de configuració i depurar-lo. |\n"
   ]
  },
  {
   "cell_type": "markdown",
   "id": "7b0d77da-ae89-4035-81c7-46f641031e20",
   "metadata": {},
   "source": [
    "### Cerca de llibreries de logs\n",
    "Cerca llibreries de logs en altres llenguatges (almenys 2) i identifica com resolen les següents característiques típiques d’un sistema de logging. Omple la següent taula i inclou-la al `readme.md` del repositori.\n",
    "\n",
    "| Característica          | Llenguatge 1 (Python)      | Llenguatge 2 (Java)       | Llenguatge 3 (JavaScript)   |\n",
    "|--------------------------|----------------------------|---------------------------|-----------------------------|\n",
    "| Nom del llenguatge       | Python                    | Java                      | JavaScript                  |\n",
    "| Nom de la llibreria      | logging                  | Logback                   | Winston                     |\n",
    "| És nativa del llenguatge?| Sí                        | No                        | No                          |\n",
    "| URL per descarregar-se la llibreria | N/A (`logging` ve inclosa) | [https://logback.qos.ch/](https://logback.qos.ch/) | [https://github.com/winstonjs/winston](https://github.com/winstonjs/winston) |\n",
    "| Inicialització de l’objecte de logger | `logger = logging.getLogger('nom_logger')` | `Logger logger = LoggerFactory.getLogger(Classe.class)` | `const logger = winston.createLogger({...})` |\n",
    "| Nivells de log disponibles | DEBUG, INFO, WARNING, ERROR, CRITICAL | TRACE, DEBUG, INFO, WARN, ERROR | ERROR, WARN, INFO, HTTP, VERBOSE, DEBUG, SILLY |\n",
    "| Mètode per fer log       | `logger.info(\"Missatge\")` | `logger.info(\"Missatge\")` | `logger.info(\"Missatge\")`   |\n",
    "| Tipus de manegadors      | FileHandler, StreamHandler, RotatingFileHandler, etc. | ConsoleAppender, FileAppender, RollingFileAppender, etc. | Console, File, HTTP transports, etc. |\n",
    "| Opcions de format        | Format per defecte o personalitzat amb `Formatter`. | Configuració amb patrons a `logback.xml`. | Formatters personalitzats amb JSON o text pla. |"
   ]
  },
  {
   "cell_type": "markdown",
   "id": "966791be-8e55-4948-880f-1ae387174181",
   "metadata": {},
   "source": [
    "---\n",
    "\n",
    "## Exercici 3\n",
    "Mitjançant les eines proposades a continuació, voldríem elaborar una petita aplicació que permetés a un treballador de forma senzilla introduir mitjançant un fitxer JSON, TXT, CSV o similar unes dades que escollim i li elaborem una sèrie de gràfiques.\n",
    "\n",
    "### Eines:\n",
    "- Pandas: Llibreria de Python per a manipulació i anàlisi de dades. Permet llegir, processar i transformar dades de formats com CSV, JSON, Excel, entre d'altres. És essencial per gestionar i preparar les dades abans de visualitzar-les o generar informes.\n",
    "- Jupyter Notebook: Entorn interactiu per desenvolupar i executar codi Python. És ideal per analitzar dades, crear prototips i documentar processos amb codi, gràfiques i explicacions en un sol lloc.\n",
    "- Reportlab: Llibreria per generar documents PDF a partir de codi Python. Ofereix eines per incloure textos, gràfiques i imatges en un format personalitzable, ideal per crear informes finals.\n",
    "\n",
    "### Tasques:\n",
    "1. Detallar la funcionalitat de cada una de les eines presentades.\n",
    "2. Posar captures de les proves que heu fet i argumentar quines eines i llibreries utilitzareu finalment.\n"
   ]
  },
  {
   "cell_type": "code",
   "execution_count": 9,
   "id": "af27da63-b8bb-4bbc-993a-45c7e62ce48f",
   "metadata": {},
   "outputs": [
    {
     "ename": "FileNotFoundError",
     "evalue": "[Errno 2] No such file or directory: 'exemple_dades.csv'",
     "output_type": "error",
     "traceback": [
      "\u001b[1;31m---------------------------------------------------------------------------\u001b[0m",
      "\u001b[1;31mFileNotFoundError\u001b[0m                         Traceback (most recent call last)",
      "Cell \u001b[1;32mIn[9], line 4\u001b[0m\n\u001b[0;32m      1\u001b[0m \u001b[38;5;28;01mimport\u001b[39;00m \u001b[38;5;21;01mpandas\u001b[39;00m \u001b[38;5;28;01mas\u001b[39;00m \u001b[38;5;21;01mpd\u001b[39;00m\n\u001b[0;32m      3\u001b[0m \u001b[38;5;66;03m# Llegir fitxer CSV\u001b[39;00m\n\u001b[1;32m----> 4\u001b[0m data \u001b[38;5;241m=\u001b[39m pd\u001b[38;5;241m.\u001b[39mread_csv(\u001b[38;5;124m\"\u001b[39m\u001b[38;5;124mexemple_dades.csv\u001b[39m\u001b[38;5;124m\"\u001b[39m)\n\u001b[0;32m      6\u001b[0m \u001b[38;5;66;03m# Resum de dades\u001b[39;00m\n\u001b[0;32m      7\u001b[0m \u001b[38;5;28mprint\u001b[39m(data\u001b[38;5;241m.\u001b[39mdescribe())\n",
      "File \u001b[1;32mC:\\ProgramData\\anaconda3\\Lib\\site-packages\\pandas\\io\\parsers\\readers.py:1026\u001b[0m, in \u001b[0;36mread_csv\u001b[1;34m(filepath_or_buffer, sep, delimiter, header, names, index_col, usecols, dtype, engine, converters, true_values, false_values, skipinitialspace, skiprows, skipfooter, nrows, na_values, keep_default_na, na_filter, verbose, skip_blank_lines, parse_dates, infer_datetime_format, keep_date_col, date_parser, date_format, dayfirst, cache_dates, iterator, chunksize, compression, thousands, decimal, lineterminator, quotechar, quoting, doublequote, escapechar, comment, encoding, encoding_errors, dialect, on_bad_lines, delim_whitespace, low_memory, memory_map, float_precision, storage_options, dtype_backend)\u001b[0m\n\u001b[0;32m   1013\u001b[0m kwds_defaults \u001b[38;5;241m=\u001b[39m _refine_defaults_read(\n\u001b[0;32m   1014\u001b[0m     dialect,\n\u001b[0;32m   1015\u001b[0m     delimiter,\n\u001b[1;32m   (...)\u001b[0m\n\u001b[0;32m   1022\u001b[0m     dtype_backend\u001b[38;5;241m=\u001b[39mdtype_backend,\n\u001b[0;32m   1023\u001b[0m )\n\u001b[0;32m   1024\u001b[0m kwds\u001b[38;5;241m.\u001b[39mupdate(kwds_defaults)\n\u001b[1;32m-> 1026\u001b[0m \u001b[38;5;28;01mreturn\u001b[39;00m _read(filepath_or_buffer, kwds)\n",
      "File \u001b[1;32mC:\\ProgramData\\anaconda3\\Lib\\site-packages\\pandas\\io\\parsers\\readers.py:620\u001b[0m, in \u001b[0;36m_read\u001b[1;34m(filepath_or_buffer, kwds)\u001b[0m\n\u001b[0;32m    617\u001b[0m _validate_names(kwds\u001b[38;5;241m.\u001b[39mget(\u001b[38;5;124m\"\u001b[39m\u001b[38;5;124mnames\u001b[39m\u001b[38;5;124m\"\u001b[39m, \u001b[38;5;28;01mNone\u001b[39;00m))\n\u001b[0;32m    619\u001b[0m \u001b[38;5;66;03m# Create the parser.\u001b[39;00m\n\u001b[1;32m--> 620\u001b[0m parser \u001b[38;5;241m=\u001b[39m TextFileReader(filepath_or_buffer, \u001b[38;5;241m*\u001b[39m\u001b[38;5;241m*\u001b[39mkwds)\n\u001b[0;32m    622\u001b[0m \u001b[38;5;28;01mif\u001b[39;00m chunksize \u001b[38;5;129;01mor\u001b[39;00m iterator:\n\u001b[0;32m    623\u001b[0m     \u001b[38;5;28;01mreturn\u001b[39;00m parser\n",
      "File \u001b[1;32mC:\\ProgramData\\anaconda3\\Lib\\site-packages\\pandas\\io\\parsers\\readers.py:1620\u001b[0m, in \u001b[0;36mTextFileReader.__init__\u001b[1;34m(self, f, engine, **kwds)\u001b[0m\n\u001b[0;32m   1617\u001b[0m     \u001b[38;5;28mself\u001b[39m\u001b[38;5;241m.\u001b[39moptions[\u001b[38;5;124m\"\u001b[39m\u001b[38;5;124mhas_index_names\u001b[39m\u001b[38;5;124m\"\u001b[39m] \u001b[38;5;241m=\u001b[39m kwds[\u001b[38;5;124m\"\u001b[39m\u001b[38;5;124mhas_index_names\u001b[39m\u001b[38;5;124m\"\u001b[39m]\n\u001b[0;32m   1619\u001b[0m \u001b[38;5;28mself\u001b[39m\u001b[38;5;241m.\u001b[39mhandles: IOHandles \u001b[38;5;241m|\u001b[39m \u001b[38;5;28;01mNone\u001b[39;00m \u001b[38;5;241m=\u001b[39m \u001b[38;5;28;01mNone\u001b[39;00m\n\u001b[1;32m-> 1620\u001b[0m \u001b[38;5;28mself\u001b[39m\u001b[38;5;241m.\u001b[39m_engine \u001b[38;5;241m=\u001b[39m \u001b[38;5;28mself\u001b[39m\u001b[38;5;241m.\u001b[39m_make_engine(f, \u001b[38;5;28mself\u001b[39m\u001b[38;5;241m.\u001b[39mengine)\n",
      "File \u001b[1;32mC:\\ProgramData\\anaconda3\\Lib\\site-packages\\pandas\\io\\parsers\\readers.py:1880\u001b[0m, in \u001b[0;36mTextFileReader._make_engine\u001b[1;34m(self, f, engine)\u001b[0m\n\u001b[0;32m   1878\u001b[0m     \u001b[38;5;28;01mif\u001b[39;00m \u001b[38;5;124m\"\u001b[39m\u001b[38;5;124mb\u001b[39m\u001b[38;5;124m\"\u001b[39m \u001b[38;5;129;01mnot\u001b[39;00m \u001b[38;5;129;01min\u001b[39;00m mode:\n\u001b[0;32m   1879\u001b[0m         mode \u001b[38;5;241m+\u001b[39m\u001b[38;5;241m=\u001b[39m \u001b[38;5;124m\"\u001b[39m\u001b[38;5;124mb\u001b[39m\u001b[38;5;124m\"\u001b[39m\n\u001b[1;32m-> 1880\u001b[0m \u001b[38;5;28mself\u001b[39m\u001b[38;5;241m.\u001b[39mhandles \u001b[38;5;241m=\u001b[39m get_handle(\n\u001b[0;32m   1881\u001b[0m     f,\n\u001b[0;32m   1882\u001b[0m     mode,\n\u001b[0;32m   1883\u001b[0m     encoding\u001b[38;5;241m=\u001b[39m\u001b[38;5;28mself\u001b[39m\u001b[38;5;241m.\u001b[39moptions\u001b[38;5;241m.\u001b[39mget(\u001b[38;5;124m\"\u001b[39m\u001b[38;5;124mencoding\u001b[39m\u001b[38;5;124m\"\u001b[39m, \u001b[38;5;28;01mNone\u001b[39;00m),\n\u001b[0;32m   1884\u001b[0m     compression\u001b[38;5;241m=\u001b[39m\u001b[38;5;28mself\u001b[39m\u001b[38;5;241m.\u001b[39moptions\u001b[38;5;241m.\u001b[39mget(\u001b[38;5;124m\"\u001b[39m\u001b[38;5;124mcompression\u001b[39m\u001b[38;5;124m\"\u001b[39m, \u001b[38;5;28;01mNone\u001b[39;00m),\n\u001b[0;32m   1885\u001b[0m     memory_map\u001b[38;5;241m=\u001b[39m\u001b[38;5;28mself\u001b[39m\u001b[38;5;241m.\u001b[39moptions\u001b[38;5;241m.\u001b[39mget(\u001b[38;5;124m\"\u001b[39m\u001b[38;5;124mmemory_map\u001b[39m\u001b[38;5;124m\"\u001b[39m, \u001b[38;5;28;01mFalse\u001b[39;00m),\n\u001b[0;32m   1886\u001b[0m     is_text\u001b[38;5;241m=\u001b[39mis_text,\n\u001b[0;32m   1887\u001b[0m     errors\u001b[38;5;241m=\u001b[39m\u001b[38;5;28mself\u001b[39m\u001b[38;5;241m.\u001b[39moptions\u001b[38;5;241m.\u001b[39mget(\u001b[38;5;124m\"\u001b[39m\u001b[38;5;124mencoding_errors\u001b[39m\u001b[38;5;124m\"\u001b[39m, \u001b[38;5;124m\"\u001b[39m\u001b[38;5;124mstrict\u001b[39m\u001b[38;5;124m\"\u001b[39m),\n\u001b[0;32m   1888\u001b[0m     storage_options\u001b[38;5;241m=\u001b[39m\u001b[38;5;28mself\u001b[39m\u001b[38;5;241m.\u001b[39moptions\u001b[38;5;241m.\u001b[39mget(\u001b[38;5;124m\"\u001b[39m\u001b[38;5;124mstorage_options\u001b[39m\u001b[38;5;124m\"\u001b[39m, \u001b[38;5;28;01mNone\u001b[39;00m),\n\u001b[0;32m   1889\u001b[0m )\n\u001b[0;32m   1890\u001b[0m \u001b[38;5;28;01massert\u001b[39;00m \u001b[38;5;28mself\u001b[39m\u001b[38;5;241m.\u001b[39mhandles \u001b[38;5;129;01mis\u001b[39;00m \u001b[38;5;129;01mnot\u001b[39;00m \u001b[38;5;28;01mNone\u001b[39;00m\n\u001b[0;32m   1891\u001b[0m f \u001b[38;5;241m=\u001b[39m \u001b[38;5;28mself\u001b[39m\u001b[38;5;241m.\u001b[39mhandles\u001b[38;5;241m.\u001b[39mhandle\n",
      "File \u001b[1;32mC:\\ProgramData\\anaconda3\\Lib\\site-packages\\pandas\\io\\common.py:873\u001b[0m, in \u001b[0;36mget_handle\u001b[1;34m(path_or_buf, mode, encoding, compression, memory_map, is_text, errors, storage_options)\u001b[0m\n\u001b[0;32m    868\u001b[0m \u001b[38;5;28;01melif\u001b[39;00m \u001b[38;5;28misinstance\u001b[39m(handle, \u001b[38;5;28mstr\u001b[39m):\n\u001b[0;32m    869\u001b[0m     \u001b[38;5;66;03m# Check whether the filename is to be opened in binary mode.\u001b[39;00m\n\u001b[0;32m    870\u001b[0m     \u001b[38;5;66;03m# Binary mode does not support 'encoding' and 'newline'.\u001b[39;00m\n\u001b[0;32m    871\u001b[0m     \u001b[38;5;28;01mif\u001b[39;00m ioargs\u001b[38;5;241m.\u001b[39mencoding \u001b[38;5;129;01mand\u001b[39;00m \u001b[38;5;124m\"\u001b[39m\u001b[38;5;124mb\u001b[39m\u001b[38;5;124m\"\u001b[39m \u001b[38;5;129;01mnot\u001b[39;00m \u001b[38;5;129;01min\u001b[39;00m ioargs\u001b[38;5;241m.\u001b[39mmode:\n\u001b[0;32m    872\u001b[0m         \u001b[38;5;66;03m# Encoding\u001b[39;00m\n\u001b[1;32m--> 873\u001b[0m         handle \u001b[38;5;241m=\u001b[39m \u001b[38;5;28mopen\u001b[39m(\n\u001b[0;32m    874\u001b[0m             handle,\n\u001b[0;32m    875\u001b[0m             ioargs\u001b[38;5;241m.\u001b[39mmode,\n\u001b[0;32m    876\u001b[0m             encoding\u001b[38;5;241m=\u001b[39mioargs\u001b[38;5;241m.\u001b[39mencoding,\n\u001b[0;32m    877\u001b[0m             errors\u001b[38;5;241m=\u001b[39merrors,\n\u001b[0;32m    878\u001b[0m             newline\u001b[38;5;241m=\u001b[39m\u001b[38;5;124m\"\u001b[39m\u001b[38;5;124m\"\u001b[39m,\n\u001b[0;32m    879\u001b[0m         )\n\u001b[0;32m    880\u001b[0m     \u001b[38;5;28;01melse\u001b[39;00m:\n\u001b[0;32m    881\u001b[0m         \u001b[38;5;66;03m# Binary mode\u001b[39;00m\n\u001b[0;32m    882\u001b[0m         handle \u001b[38;5;241m=\u001b[39m \u001b[38;5;28mopen\u001b[39m(handle, ioargs\u001b[38;5;241m.\u001b[39mmode)\n",
      "\u001b[1;31mFileNotFoundError\u001b[0m: [Errno 2] No such file or directory: 'exemple_dades.csv'"
     ]
    }
   ],
   "source": [
    "import pandas as pd\n",
    "\n",
    "# Llegir fitxer CSV\n",
    "data = pd.read_csv(\"exemple_dades.csv\")\n",
    "\n",
    "# Resum de dades\n",
    "print(data.describe())"
   ]
  },
  {
   "cell_type": "code",
   "execution_count": null,
   "id": "77fcf2e3-4c0c-4f13-8655-19b2fc092bd1",
   "metadata": {},
   "outputs": [],
   "source": [
    "import matplotlib.pyplot as plt\n",
    "\n",
    "# Gràfica d'exemple\n",
    "data['columna_exemple'].plot(kind='bar', title='Gràfica Exemple')\n",
    "plt.show()"
   ]
  },
  {
   "cell_type": "code",
   "execution_count": null,
   "id": "c2e89221-f3f4-4c98-a925-c31e0a650fed",
   "metadata": {},
   "outputs": [],
   "source": [
    "from reportlab.lib.pagesizes import letter\n",
    "from reportlab.pdfgen import canvas\n",
    "\n",
    "# Crear PDF\n",
    "c = canvas.Canvas(\"informe.pdf\", pagesize=letter)\n",
    "c.drawString(100, 750, \"Informe Generat amb ReportLab\")\n",
    "c.save()"
   ]
  },
  {
   "cell_type": "markdown",
   "id": "71f67888-c05b-4d24-96c4-2f16d93f2da7",
   "metadata": {},
   "source": [
    "---\n",
    "\n",
    "## Exercici 4\n",
    "En aquest exercici caldrà generar un CSV amb les dades que treballareu. **Recordeu** que el CSV treballa amb comes. Un cop generat el CSV, caldrà bolcar les dades al Jupyter i comprovar que es mostren correctament.\n",
    "\n",
    "### Exemple:\n",
    "| Professor | Alumne  | M01 | M04 | M03 | M05 |\n",
    "|-----------|---------|-----|-----|-----|-----|\n",
    "| Emili     | Xavier  | 7   | 9   | 5   | 8   |\n",
    "| Mario     | Marc    | 10  | 3   | 5   | 8   |\n",
    "| Steven    | Jaume   | 8   | 5   | 6   | 4   |\n",
    "\n",
    "### Restriccions:\n",
    "- El fitxer ha de contenir un mínim de 20 persones.\n",
    "- Cada registre ha de tenir 5 columnes amb dades.\n"
   ]
  },
  {
   "cell_type": "code",
   "execution_count": null,
   "id": "d1c1be6b-b13e-4500-9331-004bbc922275",
   "metadata": {},
   "outputs": [],
   "source": []
  },
  {
   "cell_type": "markdown",
   "id": "7f118ad8-3f9c-4538-9743-f4f7686702b1",
   "metadata": {},
   "source": [
    "---\n",
    "\n",
    "## Exercici 5\n",
    "Un cop tractades les dades introduïdes via fitxer, caldrà investigar la llibreria que hagueu triat i elaborar el codi necessari per presentar els resultats amb sentit dins l'àmbit del problema.\n",
    "\n",
    "### Exemples de càlculs:\n",
    "- La mitjana de nota final de cada alumne.\n",
    "- La mitjana de nota final de tots els alumnes conjuntament.\n",
    "- Percentatges d'aprovats i suspesos.\n",
    "- Notes més baixes o més altes.\n",
    "- Altres resultats interessants.\n",
    "\n",
    "**Restricció**: generar com a mínim 5 resultats coherents amb un procés d’avaluació."
   ]
  },
  {
   "cell_type": "code",
   "execution_count": null,
   "id": "641a0e0d-6212-4794-b1bd-e06d32012b66",
   "metadata": {},
   "outputs": [],
   "source": []
  },
  {
   "cell_type": "markdown",
   "id": "c29d5cdd-9b9d-4ba1-996f-bc02763487d6",
   "metadata": {},
   "source": [
    "---\n",
    "\n",
    "## Exercici 6\n",
    "De manera similar a l'Exercici 5, investigueu una llibreria per a la generació de gràfics visuals. Desenvolupeu el codi necessari per generar **4 gràfiques coherents**. Es pot utilitzar la llibreria Python Matplotlib.\n"
   ]
  },
  {
   "cell_type": "code",
   "execution_count": null,
   "id": "f42bdc84-10ff-4958-8797-11ab31dfe9ad",
   "metadata": {},
   "outputs": [],
   "source": []
  },
  {
   "cell_type": "markdown",
   "id": "b77f8e36-7ded-42b7-8dd0-a5f229148c38",
   "metadata": {},
   "source": [
    "---\n",
    "\n",
    "## Exercici 7\n",
    "Elaborar un informe amb les següents parts:\n",
    "1. Informe de la part de logging, incloent el codi utilitzat, exemples d’utilització i resultats.\n",
    "2. Informe del tractament de dades, detallant cada part utilitzada i les gràfiques generades."
   ]
  },
  {
   "cell_type": "code",
   "execution_count": null,
   "id": "48e82ecb-6c6c-4754-8f27-ce70a24440da",
   "metadata": {},
   "outputs": [],
   "source": []
  }
 ],
 "metadata": {
  "kernelspec": {
   "display_name": "Python 3 (ipykernel)",
   "language": "python",
   "name": "python3"
  },
  "language_info": {
   "codemirror_mode": {
    "name": "ipython",
    "version": 3
   },
   "file_extension": ".py",
   "mimetype": "text/x-python",
   "name": "python",
   "nbconvert_exporter": "python",
   "pygments_lexer": "ipython3",
   "version": "3.12.4"
  }
 },
 "nbformat": 4,
 "nbformat_minor": 5
}
